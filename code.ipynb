{
 "cells": [
  {
   "cell_type": "markdown",
   "id": "f601d6de",
   "metadata": {},
   "source": [
    "### Assignment 02"
   ]
  },
  {
   "cell_type": "markdown",
   "id": "8ec97e2c",
   "metadata": {},
   "source": [
    "Start by importing all required libraries."
   ]
  },
  {
   "cell_type": "code",
   "execution_count": 3,
   "id": "c40b5841",
   "metadata": {},
   "outputs": [],
   "source": [
    "import cv2\n",
    "import numpy as np\n",
    "import matplotlib.pyplot as plt"
   ]
  }
 ],
 "metadata": {
  "kernelspec": {
   "display_name": ".venv",
   "language": "python",
   "name": "python3"
  },
  "language_info": {
   "codemirror_mode": {
    "name": "ipython",
    "version": 3
   },
   "file_extension": ".py",
   "mimetype": "text/x-python",
   "name": "python",
   "nbconvert_exporter": "python",
   "pygments_lexer": "ipython3",
   "version": "3.13.1"
  }
 },
 "nbformat": 4,
 "nbformat_minor": 5
}
